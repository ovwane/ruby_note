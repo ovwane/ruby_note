{
 "cells": [
  {
   "cell_type": "markdown",
   "metadata": {},
   "source": [
    "# 笨方法学Ruby\n",
    "\n",
    "# 参考\n",
    "http://www.kancloud.cn/in-2/learn-ruby-the-hard-way/81182"
   ]
  },
  {
   "cell_type": "code",
   "execution_count": 4,
   "metadata": {
    "collapsed": false
   },
   "outputs": [
    {
     "name": "stdout",
     "output_type": "stream",
     "text": [
      "hello world\n"
     ]
    }
   ],
   "source": [
    "#ruby -v \n",
    "puts \"hello world\""
   ]
  },
  {
   "cell_type": "code",
   "execution_count": 7,
   "metadata": {
    "collapsed": false
   },
   "outputs": [
    {
     "name": "stdout",
     "output_type": "stream",
     "text": [
      "Hello World!\n",
      "Hello Again\n",
      "I like typing this.\n",
      "This is fun.\n",
      "Yay! Printing.\n",
      "I'd much rather you 'not'.\n",
      "I \"said\" do not touch this.\n"
     ]
    }
   ],
   "source": [
    "# ex1.rb\n",
    "puts \"Hello World!\"\n",
    "puts \"Hello Again\"\n",
    "puts \"I like typing this.\"\n",
    "puts \"This is fun.\"\n",
    "puts 'Yay! Printing.'\n",
    "puts \"I'd much rather you 'not'.\"\n",
    "puts 'I \"said\" do not touch this.'"
   ]
  },
  {
   "cell_type": "code",
   "execution_count": 10,
   "metadata": {
    "collapsed": false
   },
   "outputs": [
    {
     "name": "stdout",
     "output_type": "stream",
     "text": [
      "I will now count my chickens:\n",
      "Hens\n",
      "30\n",
      "Roosters\n",
      "97\n",
      "Now I will count the eggs:\n",
      "7\n",
      "Is it true that 3 + 2 < 5 - 7?\n",
      "false\n",
      "What is 3 + 2?\n",
      "5\n",
      "What is 5 - 7?\n",
      "-2\n",
      "Oh, that's why it's false.\n",
      "How about some more.\n",
      "Is it greater?\n",
      "true\n",
      "Is it greater or equal?\n",
      "true\n",
      "Is it less or equal?\n",
      "false\n"
     ]
    }
   ],
   "source": [
    "puts \"I will now count my chickens:\"\n",
    "\n",
    "puts \"Hens\", 25 + 30 / 6\n",
    "puts \"Roosters\", 100 - 25 * 3 % 4\n",
    "\n",
    "puts \"Now I will count the eggs:\"\n",
    "\n",
    "puts 3 + 2 + 1 - 5 + 4 % 2 - 1 / 4 + 6\n",
    "\n",
    "puts \"Is it true that 3 + 2 < 5 - 7?\"\n",
    "\n",
    "puts 3 + 2 < 5 - 7\n",
    "\n",
    "puts \"What is 3 + 2?\", 3 + 2\n",
    "puts \"What is 5 - 7?\", 5 - 7\n",
    "\n",
    "puts \"Oh, that's why it's false.\"\n",
    "\n",
    "puts \"How about some more.\"\n",
    "\n",
    "puts \"Is it greater?\", 5 > -2\n",
    "puts \"Is it greater or equal?\", 5 >= -2\n",
    "puts \"Is it less or equal?\", 5 <= -2"
   ]
  },
  {
   "cell_type": "code",
   "execution_count": 13,
   "metadata": {
    "collapsed": false
   },
   "outputs": [
    {
     "name": "stdout",
     "output_type": "stream",
     "text": [
      "There are 100 cars available.\n",
      "There are only 30 drivers available.\n",
      "There will be 70 empty cars today.\n",
      "We can transport 120.0 people today.\n",
      "We have 90 passengers to carpool today.\n",
      "We need to put about 3 in each car.\n"
     ]
    }
   ],
   "source": [
    "cars = 100\n",
    "space_in_a_car = 4.0\n",
    "drivers = 30\n",
    "passengers = 90\n",
    "cars_not_driven = cars - drivers\n",
    "cars_driven = drivers\n",
    "carpool_capacity = cars_driven * space_in_a_car\n",
    "average_passengers_per_car = passengers / cars_driven\n",
    "\n",
    "puts \"There are #{cars} cars available.\"\n",
    "puts \"There are only #{drivers} drivers available.\"\n",
    "puts \"There will be #{cars_not_driven} empty cars today.\"\n",
    "puts \"We can transport #{carpool_capacity} people today.\"\n",
    "puts \"We have #{passengers} passengers to carpool today.\"\n",
    "puts \"We need to put about #{average_passengers_per_car} in each car.\""
   ]
  },
  {
   "cell_type": "code",
   "execution_count": 15,
   "metadata": {
    "collapsed": false
   },
   "outputs": [
    {
     "name": "stdout",
     "output_type": "stream",
     "text": [
      "Let's talk about Zed A. Shaw.\n",
      "He's 74 inches tall.\n",
      "He's 180 pounds heavy.\n",
      "Actually that's not too heavy.\n",
      "He's got Blue eyes and Brown hair.\n",
      "His teeth are usually White depending on the coffee.\n",
      "If I add 35, 74, and 180 I get 289.\n"
     ]
    }
   ],
   "source": [
    "my_name = 'Zed A. Shaw'\n",
    "my_age = 35 # not a lie\n",
    "my_height = 74 # inches\n",
    "my_weight = 180 # lbs\n",
    "my_eyes = 'Blue'\n",
    "my_teeth = 'White'\n",
    "my_hair = 'Brown'\n",
    "\n",
    "puts \"Let's talk about %s.\" % my_name\n",
    "puts \"He's %d inches tall.\" % my_height\n",
    "puts \"He's %d pounds heavy.\" % my_weight\n",
    "puts \"Actually that's not too heavy.\"\n",
    "puts \"He's got %s eyes and %s hair.\" % [my_eyes, my_hair]\n",
    "puts \"His teeth are usually %s depending on the coffee.\" % my_teeth\n",
    "\n",
    "# this line is tricky, try to get it exactly right\n",
    "puts \"If I add %d, %d, and %d I get %d.\" % [\n",
    "    my_age, my_height, my_weight, my_age + my_height + my_weight]"
   ]
  },
  {
   "cell_type": "code",
   "execution_count": 17,
   "metadata": {
    "collapsed": false
   },
   "outputs": [
    {
     "name": "stdout",
     "output_type": "stream",
     "text": [
      "There are 10 types of people.\n",
      "Those who know binary and those who don't.\n",
      "I said: There are 10 types of people..\n",
      "I also said: 'Those who know binary and those who don't.'.\n",
      "Isn't that joke so funny?! false\n",
      "This is the left side of...a string with a right side.\n"
     ]
    }
   ],
   "source": [
    "# 习题 06: 字符串和文字\n",
    "x = \"There are #{10} types of people.\"\n",
    "binary = \"binary\"\n",
    "do_not = \"don't\"\n",
    "y = \"Those who know #{binary} and those who #{do_not}.\"\n",
    "\n",
    "puts x\n",
    "puts y\n",
    "\n",
    "puts \"I said: #{x}.\"\n",
    "puts \"I also said: '#{y}'.\"\n",
    "\n",
    "hilarious = false\n",
    "joke_evaluation = \"Isn't that joke so funny?! #{hilarious}\"\n",
    "\n",
    "puts joke_evaluation\n",
    "\n",
    "w = \"This is the left side of...\"\n",
    "e = \"a string with a right side.\"\n",
    "\n",
    "puts w + e"
   ]
  },
  {
   "cell_type": "code",
   "execution_count": 25,
   "metadata": {
    "collapsed": false
   },
   "outputs": [
    {
     "name": "stdout",
     "output_type": "stream",
     "text": [
      "Mary had a little lamb.\n",
      "Its fleece was white as snow.\n",
      "And everywhere that Mary went.\n",
      "..........\n",
      "CheeseBurger\n"
     ]
    }
   ],
   "source": [
    "puts \"Mary had a little lamb.\"\n",
    "puts \"Its fleece was white as %s.\" % 'snow'\n",
    "puts \"And everywhere that Mary went.\"\n",
    "puts \".\" * 10  # what'd that do?\n",
    "\n",
    "end1 = \"C\"\n",
    "end2 = \"h\"\n",
    "end3 = \"e\"\n",
    "end4 = \"e\"\n",
    "end5 = \"s\"\n",
    "end6 = \"e\"\n",
    "end7 = \"B\"\n",
    "end8 = \"u\"\n",
    "end9 = \"r\"\n",
    "end10 = \"g\"\n",
    "end11 = \"e\"\n",
    "end12 = \"r\"\n",
    "\n",
    "# notice how we are using print instead of puts here. change it to puts\n",
    "# and see what happens.\n",
    "print end1 + end2 + end3 + end4 + end5 + end6\n",
    "print end7 + end8 + end9 + end10 + end11 + end12 #不换行，puts换行\n",
    "#puts \"---\"\n",
    "#puts end1 + end2 + end3 + end4 + end5 + end6\n",
    "#puts end7 + end8 + end9 + end10 + end11 + end12\n",
    "# this just is polite use of the terminal, try removing it\n",
    "puts\n"
   ]
  },
  {
   "cell_type": "code",
   "execution_count": 27,
   "metadata": {
    "collapsed": false
   },
   "outputs": [
    {
     "name": "stdout",
     "output_type": "stream",
     "text": [
      "1 2 3 4\n",
      "one two three four\n",
      "true false false true\n",
      "%s %s %s %s %s %s %s %s %s %s %s %s %s %s %s %s\n",
      "I had this thing. That you could type up right. But it didn't sing. So I said goodnight.\n"
     ]
    }
   ],
   "source": [
    "# 习题 08: 输出，输出\n",
    "formatter = \"%s %s %s %s\"\n",
    "\n",
    "puts formatter % [1, 2, 3, 4]\n",
    "puts formatter % [\"one\", \"two\", \"three\", \"four\"]\n",
    "puts formatter % [true, false, false, true]\n",
    "puts formatter % [formatter, formatter, formatter, formatter]\n",
    "puts formatter % [\n",
    "    \"I had this thing.\",\n",
    "    \"That you could type up right.\",\n",
    "    \"But it didn't sing.\",\n",
    "    \"So I said goodnight.\"\n",
    "]"
   ]
  },
  {
   "cell_type": "code",
   "execution_count": 31,
   "metadata": {
    "collapsed": false
   },
   "outputs": [
    {
     "name": "stdout",
     "output_type": "stream",
     "text": [
      "Here are the days: \n",
      "Mon Tue Wed Thu Fri Sat Sun\n",
      "Here are the months: \n",
      "Jan\n",
      "Feb\n",
      "Mar\n",
      "Apr\n",
      "May\n",
      "Jun\n",
      "Jul\n",
      "Aug\n",
      "There's something going on here.\n",
      "With the three double-quotes.\n",
      "We'll be able to type as much as we like.\n",
      "Even 4 lines if we want, or 5, or 6.\n",
      "\n"
     ]
    }
   ],
   "source": [
    "# 习题 09: 输出,输出,输出~\n",
    "# Here's some new strange stuff, remember type it exactly.\n",
    "\n",
    "days = \"Mon Tue Wed Thu Fri Sat Sun\"\n",
    "months = \"Jan\\nFeb\\nMar\\nApr\\nMay\\nJun\\nJul\\nAug\"\n",
    "\n",
    "puts \"Here are the days: \", days\n",
    "puts \"Here are the months: \", months\n",
    "\n",
    "puts <<PARAGRAPH\n",
    "There's something going on here.\n",
    "With the three double-quotes.\n",
    "We'll be able to type as much as we like.\n",
    "Even 4 lines if we want, or 5, or 6.\n",
    "PARAGRAPH\n",
    "# 原样输出"
   ]
  },
  {
   "cell_type": "code",
   "execution_count": 36,
   "metadata": {
    "collapsed": false
   },
   "outputs": [
    {
     "name": "stdout",
     "output_type": "stream",
     "text": [
      "\tI'm tabbed in.\n",
      "I'm split\n",
      "on a line.\n",
      "I'm \\ a \\ cat.\n",
      "I'll do a list:\n",
      "\t* Cat food\n",
      "\t* Fishies\n",
      "\t* Catnip\n",
      "\t* Grass\n",
      "\n"
     ]
    }
   ],
   "source": [
    "# 习题 10: 那是啥？\n",
    "tabby_cat = \"\\tI'm tabbed in.\"\n",
    "persian_cat = \"I'm split\\non a line.\"\n",
    "backslash_cat = \"I'm \\\\ a \\\\ cat.\"\n",
    "\n",
    "fat_cat = <<MY_HEREDOC\n",
    "I'll do a list:\n",
    "\\t* Cat food\n",
    "\\t* Fishies\n",
    "\\t* Catnip\\n\\t* Grass\n",
    "MY_HEREDOC\n",
    "\n",
    "puts tabby_cat\n",
    "puts persian_cat\n",
    "puts backslash_cat\n",
    "puts fat_cat"
   ]
  },
  {
   "cell_type": "code",
   "execution_count": 37,
   "metadata": {
    "collapsed": false
   },
   "outputs": [
    {
     "name": "stdout",
     "output_type": "stream",
     "text": [
      "How old are you? "
     ]
    },
    {
     "ename": "Errno::ENOENT",
     "evalue": "No such file or directory @ rb_sysopen - kernel",
     "output_type": "error",
     "traceback": [
      "\u001b[31mErrno::ENOENT\u001b[0m: No such file or directory @ rb_sysopen - kernel",
      "\u001b[37m<main>:6:in `gets'\u001b[0m",
      "\u001b[37m<main>:6:in `gets'\u001b[0m",
      "\u001b[37m<main>:6:in `<main>'\u001b[0m",
      "\u001b[37m/usr/local/lib/ruby/gems/2.3.0/gems/iruby-0.2.9/lib/iruby/backend.rb:44:in `eval'\u001b[0m",
      "\u001b[37m/usr/local/lib/ruby/gems/2.3.0/gems/iruby-0.2.9/lib/iruby/backend.rb:44:in `eval'\u001b[0m",
      "\u001b[37m/usr/local/lib/ruby/gems/2.3.0/gems/iruby-0.2.9/lib/iruby/backend.rb:12:in `eval'\u001b[0m",
      "\u001b[37m/usr/local/lib/ruby/gems/2.3.0/gems/iruby-0.2.9/lib/iruby/kernel.rb:87:in `execute_request'\u001b[0m",
      "\u001b[37m/usr/local/lib/ruby/gems/2.3.0/gems/iruby-0.2.9/lib/iruby/kernel.rb:47:in `dispatch'\u001b[0m",
      "\u001b[37m/usr/local/lib/ruby/gems/2.3.0/gems/iruby-0.2.9/lib/iruby/kernel.rb:37:in `run'\u001b[0m",
      "\u001b[37m/usr/local/lib/ruby/gems/2.3.0/gems/iruby-0.2.9/lib/iruby/command.rb:70:in `run_kernel'\u001b[0m",
      "\u001b[37m/usr/local/lib/ruby/gems/2.3.0/gems/iruby-0.2.9/lib/iruby/command.rb:34:in `run'\u001b[0m",
      "\u001b[37m/usr/local/lib/ruby/gems/2.3.0/gems/iruby-0.2.9/bin/iruby:5:in `<top (required)>'\u001b[0m",
      "\u001b[37m/usr/local/bin/iruby:23:in `load'\u001b[0m",
      "\u001b[37m/usr/local/bin/iruby:23:in `<main>'\u001b[0m"
     ]
    }
   ],
   "source": [
    "# 习题 11: 提问\n",
    "# 把资料(data)读到你的程序里面去\n",
    "# 接受输入。\n",
    "# 改变输入值。\n",
    "# 输出改变了的值。\n",
    "# 注意:需要在命令行里执行  ruby ex11.rb\n",
    "\n",
    "# ex11.rb\n",
    "print \"How old are you? \"\n",
    "age = gets.chomp()\n",
    "print \"How tall are you? \"\n",
    "height = gets.chomp()\n",
    "print \"How much do you weigh? \"\n",
    "weight = gets.chomp()\n",
    "\n",
    "puts \"So, you're #{age} old, #{height} tall and #{weight} heavy.\""
   ]
  },
  {
   "cell_type": "code",
   "execution_count": 38,
   "metadata": {
    "collapsed": false
   },
   "outputs": [
    {
     "name": "stdout",
     "output_type": "stream",
     "text": [
      "\"<!DOCTYPE html>\\n\"\n",
      "\"<html>\\n\"\n",
      "\"  <head>\\n\"\n",
      "\"    <meta charset=\\\"utf-8\\\">\\n\"\n",
      "\"\\n\"\n",
      "\"    \\n\"\n",
      "\"    <title>Ruby Programming Language</title>\\n\"\n",
      "\"    \\n\"\n",
      "\"\\n\"\n",
      "\"    <meta name=\\\"viewport\\\" content=\\\"width=device-width, initial-scale=1.0\\\">\\n\"\n",
      "\"    <meta name=\\\"description\\\" content=\\\"\\\">\\n\"\n",
      "\"\\n\"\n",
      "\"    <link rel=\\\"stylesheet\\\" type=\\\"text/css\\\" href=\\\"/stylesheets/normalize.css\\\">\\n\"\n",
      "\"    <link rel=\\\"stylesheet\\\" type=\\\"text/css\\\" href=\\\"/stylesheets/main.css\\\">\\n\"\n",
      "\"    <link rel=\\\"stylesheet\\\" type=\\\"text/css\\\" href=\\\"/stylesheets/pygments.css\\\">\\n\"\n",
      "\"    <link rel=\\\"stylesheet\\\" type=\\\"text/css\\\" href=\\\"/stylesheets/mobile.css\\\">\\n\"\n",
      "\"    <link rel=\\\"stylesheet\\\" type=\\\"text/css\\\" href=\\\"/stylesheets/print.css\\\">\\n\"\n",
      "\"    <link href='https://fonts.googleapis.com/css?family=Noto+Sans:400,700,400italic,700italic&amp;subset=latin,cyrillic,greek,vietnamese' rel='stylesheet' type='text/css'>\\n\"\n",
      "\"    <link rel=\\\"canonical\\\" href=\\\"https://www.ruby-lang.org/en/\\\">\\n\"\n",
      "\"\\n\"\n",
      "\"    <link rel=\\\"shortcut icon\\\" type=\\\"image/x-icon\\\" href=\\\"/favicon.ico\\\">\\n\"\n",
      "\"    \\n\"\n",
      "\"    <link href=\\\"/en/feeds/news.rss\\\" rel=\\\"alternate\\\" title=\\\"Recent News (RSS)\\\" type=\\\"application/rss+xml\\\">\\n\"\n",
      "\"\\n\"\n",
      "\"\\n\"\n",
      "\"    <script type=\\\"text/javascript\\\" src=\\\"/javascripts/jquery.min.js\\\"></script>\\n\"\n",
      "\"    <script type=\\\"text/javascript\\\" src=\\\"/javascripts/page.js\\\"></script>\\n\"\n",
      "\"    \\n\"\n",
      "\"    \\n\"\n",
      "\"    <script type=\\\"text/javascript\\\" src=\\\"/javascripts/examples.js\\\"></script>\\n\"\n",
      "\"    \\n\"\n",
      "\"    \\n\"\n",
      "\"  </head>\\n\"\n",
      "\"\\n\"\n",
      "\"  \\n\"\n",
      "\"\\n\"\n",
      "\"  <body id=\\\"home-page-layout\\\">\\n\"\n",
      "\"    <div id=\\\"header\\\">\\n\"\n",
      "\"      <div id=\\\"header_content\\\" class=\\\"container\\\">\\n\"\n",
      "\"        <a href=\\\"/en/\\\">\\n\"\n",
      "\"          <h1>Ruby</h1>\\n\"\n",
      "\"          <h2>A Programmer's Best Friend</h2>\\n\"\n",
      "\"        </a>\\n\"\n",
      "\"\\n\"\n",
      "\"        <div class=\\\"site-links\\\">\\n\"\n",
      "\"          <a href=\\\"/en/\\\" class=\\\"home\\\">Home</a>\\n\"\n",
      "\"          \\n\"\n",
      "\"\\n\"\n",
      "\"  <a href=\\\"/en/downloads/\\\">Downloads</a>\\n\"\n",
      "\"\\n\"\n",
      "\"  <a href=\\\"/en/documentation/\\\">Documentation</a>\\n\"\n",
      "\"\\n\"\n",
      "\"  <a href=\\\"/en/libraries/\\\">Libraries</a>\\n\"\n",
      "\"\\n\"\n",
      "\"  <a href=\\\"/en/community/\\\">Community</a>\\n\"\n",
      "\"\\n\"\n",
      "\"  <a href=\\\"/en/news/\\\">News</a>\\n\"\n",
      "\"\\n\"\n",
      "\"  <a href=\\\"/en/security/\\\">Security</a>\\n\"\n",
      "\"\\n\"\n",
      "\"  <a href=\\\"/en/about/\\\">About Ruby</a>\\n\"\n",
      "\"\\n\"\n",
      "\"\\n\"\n",
      "\"          <a href=\\\"#\\\" class=\\\"menu selected\\\">Menu</a>\\n\"\n",
      "\"        </div>\\n\"\n",
      "\"\\n\"\n",
      "\"        <div id=\\\"search-box\\\">\\n\"\n",
      "\"          \\n\"\n",
      "\"<form id=\\\"search-form\\\" action=\\\"https://www.google.com/cse\\\">\\n\"\n",
      "\"  <table class=\\\"fieldset\\\">\\n\"\n",
      "\"    <tr>\\n\"\n",
      "\"      <td>\\n\"\n",
      "\"        <input class=\\\"field\\\" type=\\\"text\\\" name=\\\"q\\\" size=\\\"31\\\" style=\\\"background: white url(//www.google.com/coop/intl/en/images/google_custom_search_watermark.gif) left no-repeat\\\" onfocus=\\\"this.style.background='white'\\\" onblur=\\\"if (/^\\\\s*$/.test(this.value)) this.style.background='white url(//www.google.com/coop/intl/en/images/google_custom_search_watermark.gif) left no-repeat'\\\"/>\\n\"\n",
      "\"      </td>\\n\"\n",
      "\"      <td>\\n\"\n",
      "\"        <input type=\\\"hidden\\\" name=\\\"cx\\\" value=\\\"013598269713424429640:g5orptiw95w\\\" />\\n\"\n",
      "\"        <input type=\\\"hidden\\\" name=\\\"ie\\\" value=\\\"UTF-8\\\" />\\n\"\n",
      "\"        <input class=\\\"button\\\" type=\\\"submit\\\" name=\\\"sa\\\" value=\\\"Search\\\" />\\n\"\n",
      "\"      </td>\\n\"\n",
      "\"    </tr>\\n\"\n",
      "\"  </table>\\n\"\n",
      "\"</form>\\n\"\n",
      "\"\\n\"\n",
      "\"        </div>\\n\"\n",
      "\"      </div>\\n\"\n",
      "\"    </div>\\n\"\n",
      "\"\\n\"\n",
      "\"    <div id=\\\"page\\\">\\n\"\n",
      "\"      \\n\"\n",
      "\"<div id=\\\"intro-container\\\">\\n\"\n",
      "\"  <div class=\\\"container\\\">\\n\"\n",
      "\"    <div id=\\\"intro-wrapper\\\">\\n\"\n",
      "\"  <div id=\\\"intro\\\">\\n\"\n",
      "\"    <h1>Ruby is...</h1>\\n\"\n",
      "\"\\n\"\n",
      "\"    <p>\\n\"\n",
      "\"    A dynamic, open source programming language with a focus on\\n\"\n",
      "\"    simplicity and productivity. It has an elegant syntax that is\\n\"\n",
      "\"    natural to read and easy to write.\\n\"\n",
      "\"    </p>\\n\"\n",
      "\"\\n\"\n",
      "\"    <a href=\\\"downloads/\\\" class=\\\"download-link\\\">Download Ruby</a>\\n\"\n",
      "\"    or\\n\"\n",
      "\"    <a href=\\\"about/\\\">Read More...</a>\\n\"\n",
      "\"\\n\"\n",
      "\"  </div>\\n\"\n",
      "\"  <div id=\\\"code\\\"><noscript><div class=\\\"highlight\\\"><pre><code class=\\\"ruby\\\">\\n\"\n",
      "\"    <span class=\\\"c1\\\"># The famous Hello World</span>\\n\"\n",
      "\"    <span class=\\\"c1\\\"># Program is trivial in</span>\\n\"\n",
      "\"    <span class=\\\"c1\\\"># Ruby. Superfluous:</span>\\n\"\n",
      "\"    <span class=\\\"c1\\\">#</span>\\n\"\n",
      "\"    <span class=\\\"c1\\\"># * A &quot;main&quot; method</span>\\n\"\n",
      "\"    <span class=\\\"c1\\\"># * Newline</span>\\n\"\n",
      "\"    <span class=\\\"c1\\\"># * Semicolons</span>\\n\"\n",
      "\"    <span class=\\\"c1\\\">#</span>\\n\"\n",
      "\"    <span class=\\\"c1\\\"># Here is the Code:</span>\\n\"\n",
      "\"\\n\"\n",
      "\"    <span class=\\\"nb\\\">puts</span> <span class=\\\"s2\\\">&quot;Hello World!&quot;</span>\\n\"\n",
      "\"  </code></pre></div></noscript></div>\\n\"\n",
      "\"</div>\\n\"\n",
      "\"\\n\"\n",
      "\"  </div>\\n\"\n",
      "\"</div>\\n\"\n",
      "\"\\n\"\n",
      "\"\\n\"\n",
      "\"\\n\"\n",
      "\"      <div id=\\\"main-wrapper\\\" class=\\\"container\\\">\\n\"\n",
      "\"        <div id=\\\"main\\\">\\n\"\n",
      "\"          <div id=\\\"content-wrapper\\\">\\n\"\n",
      "\"  \\n\"\n",
      "\"<!-- //-->\\n\"\n",
      "\"\\n\"\n",
      "\"\\n\"\n",
      "\"\\n\"\n",
      "\"\\n\"\n",
      "\"  <div id=\\\"content\\\">\\n\"\n",
      "\"    \\n\"\n",
      "\"\\n\"\n",
      "\"\\n\"\n",
      "\"\\n\"\n",
      "\"\\n\"\n",
      "\"\\n\"\n",
      "\"\\n\"\n",
      "\"\\n\"\n",
      "\"<div class=\\\"post\\\">\\n\"\n",
      "\"  <h3><a href=\\\"/en/news/2016/07/25/ruby-prize-2016/\\\">Ruby Prize 2016 nominations are now open</a></h3>\\n\"\n",
      "\"\\n\"\n",
      "\"  <p>Ruby Prize 2016 nominations are now being accepted for new and outstanding members in the Ruby community.</p>\\n\"\n",
      "\"\\n\"\n",
      "\"\\n\"\n",
      "\"\\n\"\n",
      "\"  <p class=\\\"post-link\\\"><a href=\\\"/en/news/2016/07/25/ruby-prize-2016/\\\">Continue Reading...</a></p>\\n\"\n",
      "\"\\n\"\n",
      "\"  <p class=\\\"post-info\\\">Posted by Ruby Association on 25 Jul 2016</p>\\n\"\n",
      "\"</div>\\n\"\n",
      "\"\\n\"\n",
      "\"<div class=\\\"post\\\">\\n\"\n",
      "\"  <h3><a href=\\\"/en/news/2016/06/20/ruby-2-4-0-preview1-released/\\\">Ruby 2.4.0-preview1 Released</a></h3>\\n\"\n",
      "\"\\n\"\n",
      "\"  <p>We are pleased to announce the release of Ruby 2.4.0-preview1.</p>\\n\"\n",
      "\"\\n\"\n",
      "\"\\n\"\n",
      "\"\\n\"\n",
      "\"  <p class=\\\"post-link\\\"><a href=\\\"/en/news/2016/06/20/ruby-2-4-0-preview1-released/\\\">Continue Reading...</a></p>\\n\"\n",
      "\"\\n\"\n",
      "\"  <p class=\\\"post-info\\\">Posted by naruse on 20 Jun 2016</p>\\n\"\n",
      "\"</div>\\n\"\n",
      "\"\\n\"\n",
      "\"<div class=\\\"post\\\">\\n\"\n",
      "\"  <h3><a href=\\\"/en/news/2016/05/16/confoo-cfp/\\\">ConFoo Vancouver 2016 is looking for Ruby speakers</a></h3>\\n\"\n",
      "\"\\n\"\n",
      "\"  <p>ConFoo is once more seeking passionate speakers for the upcoming conference.</p>\\n\"\n",
      "\"\\n\"\n",
      "\"\\n\"\n",
      "\"\\n\"\n",
      "\"  <p class=\\\"post-link\\\"><a href=\\\"/en/news/2016/05/16/confoo-cfp/\\\">Continue Reading...</a></p>\\n\"\n",
      "\"\\n\"\n",
      "\"  <p class=\\\"post-info\\\">Posted by afilina on 16 May 2016</p>\\n\"\n",
      "\"</div>\\n\"\n",
      "\"\\n\"\n",
      "\"<div class=\\\"post\\\">\\n\"\n",
      "\"  <h3><a href=\\\"/en/news/2016/04/26/ruby-2-3-1-released/\\\">Ruby 2.3.1 Released</a></h3>\\n\"\n",
      "\"\\n\"\n",
      "\"  <p>Ruby 2.3.1 has been released.</p>\\n\"\n",
      "\"\\n\"\n",
      "\"\\n\"\n",
      "\"\\n\"\n",
      "\"  <p class=\\\"post-link\\\"><a href=\\\"/en/news/2016/04/26/ruby-2-3-1-released/\\\">Continue Reading...</a></p>\\n\"\n",
      "\"\\n\"\n",
      "\"  <p class=\\\"post-info\\\">Posted by nagachika on 26 Apr 2016</p>\\n\"\n",
      "\"</div>\\n\"\n",
      "\"\\n\"\n",
      "\"\\n\"\n",
      "\"<div id=\\\"news\\\">\\n\"\n",
      "\"  <h3>Other News</h3>\\n\"\n",
      "\"  <ul>\\n\"\n",
      "\"    \\n\"\n",
      "\"    <li>\\n\"\n",
      "\"      <a href=\\\"/en/news/2016/04/26/ruby-2-2-5-released/\\\">Ruby 2.2.5 Released</a><br>\\n\"\n",
      "\"      <span class=\\\"post-info\\\">Posted by usa on 26 Apr 2016</span>\\n\"\n",
      "\"    </li>\\n\"\n",
      "\"    \\n\"\n",
      "\"    <li>\\n\"\n",
      "\"      <a href=\\\"/en/news/2016/04/01/ruby-2-1-10-released/\\\">Ruby 2.1.10 Released</a><br>\\n\"\n",
      "\"      <span class=\\\"post-info\\\">Posted by usa on 1 Apr 2016</span>\\n\"\n",
      "\"    </li>\\n\"\n",
      "\"    \\n\"\n",
      "\"    <li>\\n\"\n",
      "\"      <a href=\\\"/en/news/2016/03/30/ruby-2-1-9-released/\\\">Ruby 2.1.9 Released</a><br>\\n\"\n",
      "\"      <span class=\\\"post-info\\\">Posted by usa on 30 Mar 2016</span>\\n\"\n",
      "\"    </li>\\n\"\n",
      "\"    \\n\"\n",
      "\"    <li>\\n\"\n",
      "\"      <a href=\\\"/en/news/2016/02/24/support-plan-of-ruby-2-0-0-and-2-1/\\\">Support plans for Ruby 2.0.0 and Ruby 2.1</a><br>\\n\"\n",
      "\"      <span class=\\\"post-info\\\">Posted by usa on 24 Feb 2016</span>\\n\"\n",
      "\"    </li>\\n\"\n",
      "\"    \\n\"\n",
      "\"    <li>\\n\"\n",
      "\"      <a href=\\\"/en/news/2015/12/25/ruby-2-3-0-released/\\\">Ruby 2.3.0 Released</a><br>\\n\"\n",
      "\"      <span class=\\\"post-info\\\">Posted by naruse on 25 Dec 2015</span>\\n\"\n",
      "\"    </li>\\n\"\n",
      "\"    \\n\"\n",
      "\"    <li>\\n\"\n",
      "\"      <a href=\\\"/en/news/2015/12/16/unsafe-tainted-string-usage-in-fiddle-and-dl-cve-2015-7551/\\\">CVE-2015-7551: Unsafe tainted string usage in Fiddle and DL</a><br>\\n\"\n",
      "\"      <span class=\\\"post-info\\\">Posted by usa on 16 Dec 2015</span>\\n\"\n",
      "\"    </li>\\n\"\n",
      "\"    \\n\"\n",
      "\"  </ul>\\n\"\n",
      "\"\\n\"\n",
      "\"  <p class=\\\"more\\\">\\n\"\n",
      "\"    <a href=\\\"news/\\\">More News...</a>\\n\"\n",
      "\"  </p>\\n\"\n",
      "\"</div>\\n\"\n",
      "\"\\n\"\n",
      "\"  </div>\\n\"\n",
      "\"</div>\\n\"\n",
      "\"<hr class=\\\"hidden-modern\\\" />\\n\"\n",
      "\"\\n\"\n",
      "\"<div id=\\\"sidebar-wrapper\\\">\\n\"\n",
      "\"  <div id=\\\"sidebar\\\">\\n\"\n",
      "\"    \\n\"\n",
      "\"\\n\"\n",
      "\"\\n\"\n",
      "\"\\n\"\n",
      "\"\\n\"\n",
      "\"<div class=\\\"navigation\\\">\\n\"\n",
      "\"  <h3><strong>Get Started</strong>, it's easy!</h3>\\n\"\n",
      "\"\\n\"\n",
      "\"  <ul class=\\\"menu\\\">\\n\"\n",
      "\"    <li><a href=\\\"http://tryruby.org/\\\">Try Ruby! (in your browser)</a></li>\\n\"\n",
      "\"\\n\"\n",
      "\"    \\n\"\n",
      "\"    <li><a href=\\\"/en/documentation/quickstart/\\\">Ruby in Twenty Minutes</a></li>\\n\"\n",
      "\"    \\n\"\n",
      "\"\\n\"\n",
      "\"    \\n\"\n",
      "\"    <li><a href=\\\"/en/documentation/ruby-from-other-languages/\\\">Ruby from Other Languages</a></li>\\n\"\n",
      "\"    \\n\"\n",
      "\"  </ul>\\n\"\n",
      "\"</div>\\n\"\n",
      "\"\\n\"\n",
      "\"\\n\"\n",
      "\"\\n\"\n",
      "\"<div class=\\\"navigation\\\">\\n\"\n",
      "\"  <h3><strong>Explore</strong> a new world\\xE2\\x80\\xA6</h3>\\n\"\n",
      "\"  <ul class=\\\"menu\\\">\\n\"\n",
      "\"    \\n\"\n",
      "\"    <li><a href=\\\"/en/documentation/\\\">Documentation</a></li>\\n\"\n",
      "\"    \\n\"\n",
      "\"\\n\"\n",
      "\"    \\n\"\n",
      "\"\\n\"\n",
      "\"    \\n\"\n",
      "\"    <li><a href=\\\"http://rubybib.org/\\\">Academic Research</a></li>\\n\"\n",
      "\"    \\n\"\n",
      "\"\\n\"\n",
      "\"    \\n\"\n",
      "\"    <li><a href=\\\"/en/libraries/\\\">Libraries</a></li>\\n\"\n",
      "\"    \\n\"\n",
      "\"\\n\"\n",
      "\"    \\n\"\n",
      "\"    <li><a href=\\\"/en/documentation/success-stories/\\\">Success Stories</a></li>\\n\"\n",
      "\"    \\n\"\n",
      "\"  </ul>\\n\"\n",
      "\"</div>\\n\"\n",
      "\"\\n\"\n",
      "\"\\n\"\n",
      "\"\\n\"\n",
      "\"<div class=\\\"navigation\\\">\\n\"\n",
      "\"  <h3><strong>Participate</strong> in a friendly and growing community.</h3>\\n\"\n",
      "\"  <ul>\\n\"\n",
      "\"    \\n\"\n",
      "\"    <li><a href=\\\"/en/community/mailing-lists/\\\">Mailing Lists</a>: Talk about Ruby with programmers from all around the world.\\n\"\n",
      "\"</li>\\n\"\n",
      "\"    \\n\"\n",
      "\"\\n\"\n",
      "\"    \\n\"\n",
      "\"    <li><a href=\\\"/en/community/user-groups/\\\">User Groups</a>: Get in contact with Rubyists in your area.\\n\"\n",
      "\"</li>\\n\"\n",
      "\"    \\n\"\n",
      "\"\\n\"\n",
      "\"    \\n\"\n",
      "\"    <li><a href=\\\"/en/community/weblogs/\\\">Weblogs</a>: Read about what\\xE2\\x80\\x99s happening right now in the Ruby community.\\n\"\n",
      "\"</li>\\n\"\n",
      "\"    \\n\"\n",
      "\"\\n\"\n",
      "\"    \\n\"\n",
      "\"    <li><a href=\\\"/en/community/ruby-core/\\\">Ruby Core</a>: Help polish the rough edges of the latest Ruby.\\n\"\n",
      "\"</li>\\n\"\n",
      "\"    \\n\"\n",
      "\"\\n\"\n",
      "\"    \\n\"\n",
      "\"    <li><a href=\\\"https://bugs.ruby-lang.org/\\\">Issue Tracking</a>: Report or help solve issues in Ruby.\\n\"\n",
      "\"</li>\\n\"\n",
      "\"    \\n\"\n",
      "\"  </ul>\\n\"\n",
      "\"</div>\\n\"\n",
      "\"\\n\"\n",
      "\"\\n\"\n",
      "\"\\n\"\n",
      "\"\\n\"\n",
      "\"\\n\"\n",
      "\"\\n\"\n",
      "\"    <h3>Syndicate</h3>\\n\"\n",
      "\"    <p><a href=\\\"/en/feeds/news.rss\\\">Recent News (RSS)</a></p>\\n\"\n",
      "\"\\n\"\n",
      "\"\\n\"\n",
      "\"  </div>\\n\"\n",
      "\"</div>\\n\"\n",
      "\"<hr class=\\\"hidden-modern\\\" />\\n\"\n",
      "\"\\n\"\n",
      "\"        </div>\\n\"\n",
      "\"      </div>\\n\"\n",
      "\"    </div>\\n\"\n",
      "\"\\n\"\n",
      "\"    <div class=\\\"container\\\">\\n\"\n",
      "\"      <div id=\\\"footer\\\">\\n\"\n",
      "\"        <div class=\\\"site-links\\\">\\n\"\n",
      "\"          \\n\"\n",
      "\"\\n\"\n",
      "\"  <a href=\\\"/en/downloads/\\\">Downloads</a>\\n\"\n",
      "\"\\n\"\n",
      "\"  <a href=\\\"/en/documentation/\\\">Documentation</a>\\n\"\n",
      "\"\\n\"\n",
      "\"  <a href=\\\"/en/libraries/\\\">Libraries</a>\\n\"\n",
      "\"\\n\"\n",
      "\"  <a href=\\\"/en/community/\\\">Community</a>\\n\"\n",
      "\"\\n\"\n",
      "\"  <a href=\\\"/en/news/\\\">News</a>\\n\"\n",
      "\"\\n\"\n",
      "\"  <a href=\\\"/en/security/\\\">Security</a>\\n\"\n",
      "\"\\n\"\n",
      "\"  <a href=\\\"/en/about/\\\">About Ruby</a>\\n\"\n",
      "\"\\n\"\n",
      "\"\\n\"\n",
      "\"        </div>\\n\"\n",
      "\"\\n\"\n",
      "\"        <p>\\n\"\n",
      "\"\\n\"\n",
      "\"  This site in other languages:\\n\"\n",
      "\"\\n\"\n",
      "\"<a href=\\\"/bg/\\\">\\xD0\\x91\\xD1\\x8A\\xD0\\xBB\\xD0\\xB3\\xD0\\xB0\\xD1\\x80\\xD1\\x81\\xD0\\xBA\\xD0\\xB8</a>,\\n\"\n",
      "\"<a href=\\\"/de/\\\">Deutsch</a>,\\n\"\n",
      "\"<a href=\\\"/en/\\\">English</a>,\\n\"\n",
      "\"<a href=\\\"/es/\\\">Espa\\xC3\\xB1ol</a>,\\n\"\n",
      "\"<a href=\\\"/fr/\\\">Fran\\xC3\\xA7ais</a>,\\n\"\n",
      "\"<a href=\\\"/id/\\\">Bahasa Indonesia</a>,\\n\"\n",
      "\"<a href=\\\"/it/\\\">Italiano</a>,\\n\"\n",
      "\"<a href=\\\"/ja/\\\">\\xE6\\x97\\xA5\\xE6\\x9C\\xAC\\xE8\\xAA\\x9E</a>,\\n\"\n",
      "\"<a href=\\\"/ko/\\\">\\xED\\x95\\x9C\\xEA\\xB5\\xAD\\xEC\\x96\\xB4</a>,\\n\"\n",
      "\"<a href=\\\"/pl/\\\">polski</a>,\\n\"\n",
      "\"<a href=\\\"/pt/\\\">Portugu\\xC3\\xAAs</a>,\\n\"\n",
      "\"<a href=\\\"/ru/\\\">\\xD0\\xA0\\xD1\\x83\\xD1\\x81\\xD1\\x81\\xD0\\xBA\\xD0\\xB8\\xD0\\xB9</a>,\\n\"\n",
      "\"<a href=\\\"/tr/\\\">T\\xC3\\xBCrk\\xC3\\xA7e</a>,\\n\"\n",
      "\"<a href=\\\"/vi/\\\">Ti\\xE1\\xBA\\xBFng Vi\\xE1\\xBB\\x87t</a>,\\n\"\n",
      "\"<a href=\\\"/zh_cn/\\\">\\xE7\\xAE\\x80\\xE4\\xBD\\x93\\xE4\\xB8\\xAD\\xE6\\x96\\x87</a>,\\n\"\n",
      "\"<a href=\\\"/zh_tw/\\\">\\xE7\\xB9\\x81\\xE9\\xAB\\x94\\xE4\\xB8\\xAD\\xE6\\x96\\x87</a>.\\n\"\n",
      "\"</p>\\n\"\n",
      "\"\\n\"\n",
      "\"        \\n\"\n",
      "\"  <p><a href=\\\"/en/about/website/\\\">This website</a>\\n\"\n",
      "\"is proudly maintained by members of the Ruby community.\\n\"\n",
      "\"</p>\\n\"\n",
      "\"\\n\"\n",
      "\"\\n\"\n",
      "\"      </div>\\n\"\n",
      "\"    </div>\\n\"\n",
      "\"\\n\"\n",
      "\"    <script type=\\\"text/javascript\\\">\\n\"\n",
      "\"\\n\"\n",
      "\"  var _gaq = _gaq || [];\\n\"\n",
      "\"  _gaq.push(['_setAccount', 'UA-620926-1']);\\n\"\n",
      "\"  _gaq.push(['_trackPageview']);\\n\"\n",
      "\"\\n\"\n",
      "\"  (function() {\\n\"\n",
      "\"    var ga = document.createElement('script'); ga.type = 'text/javascript'; ga.async = true;\\n\"\n",
      "\"    ga.src = ('https:' == document.location.protocol ? 'https://ssl' : 'http://www') + '.google-analytics.com/ga.js';\\n\"\n",
      "\"    var s = document.getElementsByTagName('script')[0]; s.parentNode.insertBefore(ga, s);\\n\"\n",
      "\"  })();\\n\"\n",
      "\"\\n\"\n",
      "\"</script>\\n\"\n",
      "\"\\n\"\n",
      "\"  </body>\\n\"\n",
      "\"</html>\\n\"\n",
      "http://www.ruby-lang.org/en/\n",
      "text/html\n",
      "iso-8859-1\n",
      "[]\n",
      "\n"
     ]
    }
   ],
   "source": [
    "# 习题 12: 模块\n",
    "# 第一行是 require。这是一个 Ruby 中,在你所写的脚本中加入其他资源（如：Ruby Gems 或者是你写的其他东西）的功能(features) 的方法\n",
    "# 我在这里把他们叫做「功能(features)」,它们的真名 modules（模块）(行话)\n",
    "# 也有人给它另外一个名字：「函数库(libraries)」。但在这里我们还是先叫它们 modules （模块）吧\n",
    "\n",
    "require 'open-uri'\n",
    "\n",
    "open(\"http://www.ruby-lang.org/en\") do |f|\n",
    "  f.each_line {|line| p line}\n",
    "  puts f.base_uri         # <URI::HTTP:0x40e6ef2 URL:http://www.ruby-lang.org/en/>\n",
    "  puts f.content_type     # \"text/html\"\n",
    "  puts f.charset          # \"iso-8859-1\"\n",
    "  puts f.content_encoding # []\n",
    "  puts f.last_modified    # Thu Dec 05 02:45:02 UTC 2002\n",
    "end"
   ]
  },
  {
   "cell_type": "code",
   "execution_count": 39,
   "metadata": {
    "collapsed": false
   },
   "outputs": [
    {
     "name": "stdout",
     "output_type": "stream",
     "text": [
      "The script is called: /usr/local/bin/iruby\n",
      "Your first variable is: /Users/wwj/Library/Jupyter/runtime/kernel-025f73f3-2340-4490-ac13-8316c08bb72b.json\n",
      "Your second variable is: \n",
      "Your third variable is: \n"
     ]
    }
   ],
   "source": [
    "# 习题 13: 参数，解包，参数\n",
    "# 将变量传递给脚本的方法\n",
    "# ARGV就是「参数变量(argument variable)」\n",
    "# 全大写的原因是因为它是一个「常数(constant)」，它被赋值之后你就不应该去改变它\n",
    "# 这个变数会接收当你运行 Ruby 脚本时所传入的参数\n",
    "# 第 1 行将 ARGV 「解包(unpack)」\n",
    "# 脚本本身的名称被存在一个特殊变量$0 里\n",
    "\n",
    "# ex13.rb\n",
    "first, second, third = ARGV\n",
    "\n",
    "puts \"The script is called: #{$0}\"\n",
    "puts \"Your first variable is: #{first}\"\n",
    "puts \"Your second variable is: #{second}\"\n",
    "puts \"Your third variable is: #{third}\"\n",
    "# ruby ex13.rb first 2nd 3rd"
   ]
  },
  {
   "cell_type": "code",
   "execution_count": 40,
   "metadata": {
    "collapsed": true
   },
   "outputs": [],
   "source": [
    "# 习题 15: 读取文件\n",
    "# 见脚本\n",
    "# ruby支持unicode"
   ]
  },
  {
   "cell_type": "code",
   "execution_count": 42,
   "metadata": {
    "collapsed": false
   },
   "outputs": [
    {
     "name": "stdout",
     "output_type": "stream",
     "text": [
      "arg1: Zed, arg2: Shaw\n",
      "arg1: Zed, arg2: Shaw\n",
      "arg1: First!\n",
      "I got nothin'.\n"
     ]
    }
   ],
   "source": [
    "# 习题 18: 命名，变量，代码，函数\n",
    "#函数可以做三件事情：\n",
    "#它们可以给程序代码片段取名，就跟「变量」给字符串和数字命名一样。\n",
    "#它们可以接受参数，就跟你的脚本接受 ARGV 一样。\n",
    "#通过使用 #1 和 #2 ，他们可以让你创造出「迷你脚本」或者「微命令」。\n",
    "# this one is like your scripts with argv\n",
    "def puts_two(*args)\n",
    "  arg1, arg2 = args\n",
    "  puts \"arg1: #{arg1}, arg2: #{arg2}\"\n",
    "end\n",
    "\n",
    "# ok, that *args is actually pointless, we can just do this\n",
    "def puts_two_again(arg1, arg2)\n",
    "  puts \"arg1: #{arg1}, arg2: #{arg2}\"\n",
    "end\n",
    "\n",
    "# this just takes one argument\n",
    "def puts_one(arg1)\n",
    "  puts \"arg1: #{arg1}\"\n",
    "end\n",
    "\n",
    "# this one takes no arguments\n",
    "def puts_none()\n",
    "  puts \"I got nothin'.\"\n",
    "end\n",
    "\n",
    "puts_two(\"Zed\",\"Shaw\")\n",
    "puts_two_again(\"Zed\",\"Shaw\")\n",
    "puts_one(\"First!\")\n",
    "puts_none()\n",
    "# 这个函数和你写脚本的方式差不多"
   ]
  },
  {
   "cell_type": "code",
   "execution_count": 43,
   "metadata": {
    "collapsed": false
   },
   "outputs": [
    {
     "name": "stdout",
     "output_type": "stream",
     "text": [
      "We can just give the function numbers directly:\n",
      "You have 20 cheeses!\n",
      "You have 30 boxes of crackers!\n",
      "Man that's enough for a party!\n",
      "Get a blanket.\n",
      "\n",
      "OR, we can use variables from our script:\n",
      "You have 10 cheeses!\n",
      "You have 50 boxes of crackers!\n",
      "Man that's enough for a party!\n",
      "Get a blanket.\n",
      "\n",
      "We can even do math inside too:\n",
      "You have 30 cheeses!\n",
      "You have 11 boxes of crackers!\n",
      "Man that's enough for a party!\n",
      "Get a blanket.\n",
      "\n",
      "And we can combine the two, variables and math:\n",
      "You have 110 cheeses!\n",
      "You have 1050 boxes of crackers!\n",
      "Man that's enough for a party!\n",
      "Get a blanket.\n",
      "\n"
     ]
    }
   ],
   "source": [
    "# 习题 19: 函数和变量\n",
    "def cheese_and_crackers(cheese_count, boxes_of_crackers)\n",
    "  puts \"You have #{cheese_count} cheeses!\"\n",
    "  puts \"You have #{boxes_of_crackers} boxes of crackers!\"\n",
    "  puts \"Man that's enough for a party!\"\n",
    "  puts \"Get a blanket.\"\n",
    "  puts # a blank line\n",
    "end\n",
    "\n",
    "puts \"We can just give the function numbers directly:\"\n",
    "cheese_and_crackers(20, 30)\n",
    "\n",
    "puts \"OR, we can use variables from our script:\"\n",
    "amount_of_cheese = 10\n",
    "amount_of_crackers = 50\n",
    "cheese_and_crackers(amount_of_cheese, amount_of_crackers)\n",
    "\n",
    "puts \"We can even do math inside too:\"\n",
    "cheese_and_crackers(10 + 20, 5 + 6)\n",
    "\n",
    "puts \"And we can combine the two, variables and math:\"\n",
    "cheese_and_crackers(amount_of_cheese + 100, amount_of_crackers + 1000)\n",
    "# ，函数的参数和我们生成变量时用的 = 赋值符号类似。事实上，如果一个东西你可以用 = 将其命名，你通常也可以将其作为参数传给一个函数。"
   ]
  },
  {
   "cell_type": "code",
   "execution_count": 45,
   "metadata": {
    "collapsed": false
   },
   "outputs": [
    {
     "name": "stdout",
     "output_type": "stream",
     "text": [
      "Let's do some math with just functions!\n",
      "ADDING 30 + 5\n",
      "SUBTRACTING 78 - 4\n",
      "MULTIPLYING 90 * 2\n",
      "DIVIDING 100 / 2\n",
      "Age: 35, Height: 74, Weight: 180, IQ: 50\n",
      "Here is a puzzle.\n",
      "DIVIDING 50 / 2\n",
      "MULTIPLYING 180 * 25\n",
      "SUBTRACTING 74 - 4500\n",
      "ADDING 35 + -4426\n",
      "That becomes: -4391 Can you do it by hand?\n"
     ]
    }
   ],
   "source": [
    "# 习题 21: 函数可以传入信息\n",
    "# 将变量设置为「一个函数的值」\n",
    "def add(a, b)\n",
    "  puts \"ADDING #{a} + #{b}\"\n",
    "  a + b\n",
    "end\n",
    "\n",
    "def subtract(a, b)\n",
    "  puts \"SUBTRACTING #{a} - #{b}\"\n",
    "  a - b\n",
    "end\n",
    "\n",
    "def multiply(a, b)\n",
    "  puts \"MULTIPLYING #{a} * #{b}\"\n",
    "  a * b\n",
    "end\n",
    "\n",
    "def divide(a, b)\n",
    "  puts \"DIVIDING #{a} / #{b}\"\n",
    "  a / b\n",
    "end\n",
    "\n",
    "puts \"Let's do some math with just functions!\"\n",
    "\n",
    "age = add(30, 5)\n",
    "height = subtract(78,4)\n",
    "weight = multiply(90, 2)\n",
    "iq = divide(100, 2)\n",
    "\n",
    "puts \"Age: #{age}, Height: #{height}, Weight: #{weight}, IQ: #{iq}\"\n",
    "\n",
    "# A puzzle for the extra credit, type it in anyway.\n",
    "puts \"Here is a puzzle.\"\n",
    "\n",
    "what = add(age, subtract(height, multiply(weight, divide(iq, 2))))\n",
    "\n",
    "puts \"That becomes: #{what} Can you do it by hand?\""
   ]
  },
  {
   "cell_type": "code",
   "execution_count": 46,
   "metadata": {
    "collapsed": true
   },
   "outputs": [],
   "source": [
    "# 习题 22: 到现在你学到了什么？\n",
    "# 把你碰到的每一个词和每一个符号（symbol，character 的别名）写下来。确保你的符号列表是完整的。\n",
    "# 在每一个关键词和符号后面写出它的名字，并且说明它的作用。如果你在书里找不到符号的名字，就上网找一下。如果你不知道某个关键字或者符号的作用，就回到用到该符号的章节通读一下，并且在脚本中测试一下这个符号的用处。"
   ]
  },
  {
   "cell_type": "code",
   "execution_count": 47,
   "metadata": {
    "collapsed": true
   },
   "outputs": [],
   "source": [
    "# 习题 23: 阅读一些代码\n",
    "# 在网上阅读代码。这个任务初看会觉得很苦逼。我将直接把你丢到深水区呆几天，让你竭尽全力去读懂实实在在的项目里的代码\n",
    "# 当你做这节习题时，你可以把自己当成是一个人类学家来到了一片陌生的大陆，你只懂得一丁点本地语言，但你需要接触当地人并且生存下去。当然做习题不会碰到生存问题，这毕竟这不是荒野或者丛林。\n",
    "# 使用你的浏览器登录 github.com，搜索「ruby」。\n",
    "# 随便找一个项目，然后点进去。\n",
    "# 点击 Source 标签，浏览目录和项目列表，直到你看到以 .rb 结尾的项目\n",
    "# 从头开始阅读你找到的代码。把它的功能用笔记记下来。\n",
    "# 如果你看到一些有趣的符号或者奇怪的字串，你可以把它们记下来，日后再进行研究。"
   ]
  },
  {
   "cell_type": "code",
   "execution_count": 49,
   "metadata": {
    "collapsed": false
   },
   "outputs": [
    {
     "name": "stdout",
     "output_type": "stream",
     "text": [
      "Let's practice everything.\n",
      "You'd need to know 'bout escapes with \\ that do \n",
      " newlines and \t tabs.\n",
      "--------------\n",
      "\n",
      "\tThe lovely world\n",
      "with logic so firmly planted\n",
      "cannot discern \n",
      " the needs of love\n",
      "nor comprehend passion from intuition\n",
      "and requires an explanation\n",
      "\n",
      "\t\twhere there is none.\n",
      "\n",
      "\n",
      "--------------\n",
      "This should be five: 5\n",
      "With a starting point of: 10000\n",
      "We'd have 5000000 beans, 5000 jars, and 50 crates.\n",
      "We can also do that this way:\n",
      "We'd have 500000 beans, 500 jars, and 5 crates.\n"
     ]
    }
   ],
   "source": [
    "# 习题 24: 更多练习\n",
    "puts \"Let's practice everything.\"\n",
    "puts \"You\\'d need to know \\'bout escapes with \\\\ that do \\n newlines and \\t tabs.\"\n",
    "\n",
    "poem = <<MULTI_LINE_STRING\n",
    "\n",
    "\\tThe lovely world\n",
    "with logic so firmly planted\n",
    "cannot discern \\n the needs of love\n",
    "nor comprehend passion from intuition\n",
    "and requires an explanation\n",
    "\\n\\t\\twhere there is none.\n",
    "\n",
    "MULTI_LINE_STRING\n",
    "\n",
    "puts \"--------------\"\n",
    "puts poem\n",
    "puts \"--------------\"\n",
    "\n",
    "five = 10 - 2 + 3 - 6\n",
    "puts \"This should be five: #{five}\"\n",
    "\n",
    "def secret_formula(started)\n",
    "  jelly_beans = started * 500\n",
    "  jars = jelly_beans / 1000\n",
    "  crates = jars / 100\n",
    "  return jelly_beans, jars, crates\n",
    "end\n",
    "\n",
    "start_point = 10000\n",
    "beans, jars, crates = secret_formula(start_point)\n",
    "\n",
    "puts \"With a starting point of: #{start_point}\"\n",
    "puts \"We'd have #{beans} beans, #{jars} jars, and #{crates} crates.\"\n",
    "\n",
    "start_point = start_point / 10\n",
    "\n",
    "puts \"We can also do that this way:\"\n",
    "puts \"We'd have %s beans, %s jars, and %s crates.\" % secret_formula(start_point)"
   ]
  },
  {
   "cell_type": "code",
   "execution_count": 73,
   "metadata": {
    "collapsed": false
   },
   "outputs": [
    {
     "name": "stdout",
     "output_type": "stream",
     "text": [
      "[\"All\", \"good\", \"things\", \"come\", \"to\", \"those\", \"who\", \"wait.\"]\n",
      "[\"All\", \"come\", \"good\", \"things\", \"those\", \"to\", \"wait.\", \"who\"]\n",
      "All\n",
      "wait.\n",
      "[\"good\", \"things\", \"come\", \"to\", \"those\", \"who\"]\n",
      "All\n",
      "\n",
      "come\n",
      "\n",
      "who\n",
      "\n",
      "[\"good\", \"things\", \"those\", \"to\", \"wait.\"]\n",
      "[\"All\", \"come\", \"good\", \"things\", \"those\", \"to\", \"wait.\", \"who\"]\n",
      "All\n",
      "wait.\n",
      "\n",
      "All\n",
      "who\n",
      "\n"
     ]
    }
   ],
   "source": [
    "# 习题 25: 更多更多的练习\n",
    "require \"./ex25\" # 加载本地模块，模块名在模块内部定义：Ex25 （不直观）\n",
    "# 学会引用模块了！可以开始构建项目啦\n",
    "\n",
    "# Ex25.#使用iruby的tab功能！\n",
    "sentence = \"All good things come to those who wait.\"\n",
    "words = Ex25.break_words(sentence)\n",
    "puts words\n",
    "sorted_words = Ex25.sort_words(words)\n",
    "puts sorted_words\n",
    "Ex25.print_first_word(words)\n",
    "Ex25.print_last_word(words)\n",
    "# Ex25.wrods 不存在\n",
    "puts words\n",
    "puts Ex25.print_first_word(sorted_words)\n",
    "puts Ex25.print_first_word(sorted_words)# pop\n",
    "puts Ex25.print_last_word(sorted_words)\n",
    "puts sorted_words\n",
    "puts Ex25.sort_sentence(sentence)\n",
    "puts Ex25.print_first_and_last(sentence)\n",
    "puts Ex25.print_first_and_last_sorted(sentence)"
   ]
  },
  {
   "cell_type": "code",
   "execution_count": 75,
   "metadata": {
    "collapsed": false
   },
   "outputs": [
    {
     "data": {
      "text/plain": [
       "true"
      ]
     },
     "execution_count": 75,
     "metadata": {},
     "output_type": "execute_result"
    }
   ],
   "source": [
    "# 习题 28: Boolean表达式练习\n",
    "true and true"
   ]
  },
  {
   "cell_type": "code",
   "execution_count": 77,
   "metadata": {
    "collapsed": false
   },
   "outputs": [
    {
     "name": "stdout",
     "output_type": "stream",
     "text": [
      "Too many cats! The world is doomed!\n",
      "The world is dry!\n",
      "People are greater than or equal to dogs.\n",
      "People are less than or equal to dogs.\n",
      "People are dogs.\n"
     ]
    }
   ],
   "source": [
    "# 习题 29: 如果\n",
    "people = 20\n",
    "cats = 30\n",
    "dogs = 15\n",
    "\n",
    "if people < cats\n",
    "  puts \"Too many cats! The world is doomed!\"\n",
    "end\n",
    "\n",
    "if people > cats\n",
    "  puts \"Not many cats! The world is saved!\"\n",
    "end\n",
    "\n",
    "if people < dogs\n",
    "  puts \"The world is drooled on!\"\n",
    "end\n",
    "\n",
    "if people > dogs\n",
    "  puts \"The world is dry!\"\n",
    "end\n",
    "\n",
    "dogs += 5\n",
    "\n",
    "if people >= dogs\n",
    "  puts \"People are greater than or equal to dogs.\"\n",
    "end\n",
    "\n",
    "if people <= dogs\n",
    "  puts \"People are less than or equal to dogs.\"\n",
    "end\n",
    "\n",
    "if people == dogs\n",
    "  puts \"People are dogs.\"\n",
    "end"
   ]
  },
  {
   "cell_type": "code",
   "execution_count": 79,
   "metadata": {
    "collapsed": false
   },
   "outputs": [
    {
     "name": "stdout",
     "output_type": "stream",
     "text": [
      "We should take the cars.\n",
      "Maybe we could take the buses.\n",
      "Alright, let's just take the buses.\n"
     ]
    }
   ],
   "source": [
    "# 习题 30: Else 和 If\n",
    "people = 30\n",
    "cars = 40\n",
    "buses = 15\n",
    "\n",
    "if cars > people\n",
    "  puts \"We should take the cars.\"\n",
    "elsif cars < people\n",
    "  puts \"We should not take the cars.\"\n",
    "else\n",
    "  puts \"We can't decide.\"\n",
    "end\n",
    "\n",
    "if buses > cars\n",
    "  puts \"That's too many buses.\"\n",
    "elsif buses < cars\n",
    "  puts \"Maybe we could take the buses.\"\n",
    "else\n",
    "  puts \"We still can't decide.\"\n",
    "end\n",
    "\n",
    "if people > buses\n",
    "  puts \"Alright, let's just take the buses.\"\n",
    "else\n",
    "  puts \"Fine, let's stay home then.\"\n",
    "end"
   ]
  },
  {
   "cell_type": "code",
   "execution_count": 80,
   "metadata": {
    "collapsed": true
   },
   "outputs": [],
   "source": [
    "# 习题 31: 做出判断\n",
    "# 有输入，在shell里写\n",
    "# 游戏口味好重"
   ]
  },
  {
   "cell_type": "code",
   "execution_count": 82,
   "metadata": {
    "collapsed": false
   },
   "outputs": [
    {
     "name": "stdout",
     "output_type": "stream",
     "text": [
      "This is count 1\n",
      "This is count 2\n",
      "This is count 3\n",
      "This is count 4\n",
      "This is count 5\n",
      "A fruit of type: apples\n",
      "A fruit of type: oranges\n",
      "A fruit of type: pears\n",
      "A fruit of type: apricots\n",
      "I got 1\n",
      "I got pennies\n",
      "I got 2\n",
      "I got dimes\n",
      "I got 3\n",
      "I got quarters\n",
      "Adding 0 to the list.\n",
      "Adding 1 to the list.\n",
      "Adding 2 to the list.\n",
      "Adding 3 to the list.\n",
      "Adding 4 to the list.\n",
      "Adding 5 to the list.\n",
      "Element was: 0\n",
      "Element was: 1\n",
      "Element was: 2\n",
      "Element was: 3\n",
      "Element was: 4\n",
      "Element was: 5\n"
     ]
    },
    {
     "data": {
      "text/plain": [
       "[0, 1, 2, 3, 4, 5]"
      ]
     },
     "execution_count": 82,
     "metadata": {},
     "output_type": "execute_result"
    }
   ],
   "source": [
    "# 习题 32: 循环和数组\n",
    "the_count = [1, 2, 3, 4, 5]\n",
    "fruits = ['apples', 'oranges', 'pears', 'apricots']\n",
    "change = [1, 'pennies', 2, 'dimes', 3, 'quarters']\n",
    "\n",
    "# this first kind of for-loop goes through an array\n",
    "for number in the_count\n",
    "  puts \"This is count #{number}\"\n",
    "end\n",
    "\n",
    "# same as above, but using a block instead\n",
    "fruits.each do |fruit|\n",
    "  puts \"A fruit of type: #{fruit}\"\n",
    "end\n",
    "\n",
    "# also we can go through mixed arrays too\n",
    "for i in change\n",
    "  puts \"I got #{i}\"\n",
    "end\n",
    "\n",
    "# we can also build arrays, first start with an empty one\n",
    "elements = []\n",
    "\n",
    "# then use a range object to do 0 to 5 counts\n",
    "for i in (0..5)\n",
    "  puts \"Adding #{i} to the list.\"\n",
    "  # push is a function that arrays understand\n",
    "  elements.push(i)\n",
    "end\n",
    "\n",
    "# now we can puts them out too\n",
    "for i in elements\n",
    "  puts \"Element was: #{i}\"\n",
    "end"
   ]
  },
  {
   "cell_type": "code",
   "execution_count": 84,
   "metadata": {
    "collapsed": false
   },
   "outputs": [
    {
     "name": "stdout",
     "output_type": "stream",
     "text": [
      "At the top i is 0\n",
      "Numbers now: [0]\n",
      "At the bottom i is 1\n",
      "At the top i is 1\n",
      "Numbers now: [0, 1]\n",
      "At the bottom i is 2\n",
      "At the top i is 2\n",
      "Numbers now: [0, 1, 2]\n",
      "At the bottom i is 3\n",
      "At the top i is 3\n",
      "Numbers now: [0, 1, 2, 3]\n",
      "At the bottom i is 4\n",
      "At the top i is 4\n",
      "Numbers now: [0, 1, 2, 3, 4]\n",
      "At the bottom i is 5\n",
      "At the top i is 5\n",
      "Numbers now: [0, 1, 2, 3, 4, 5]\n",
      "At the bottom i is 6\n",
      "The numbers: \n",
      "0\n",
      "1\n",
      "2\n",
      "3\n",
      "4\n",
      "5\n"
     ]
    },
    {
     "data": {
      "text/plain": [
       "[0, 1, 2, 3, 4, 5]"
      ]
     },
     "execution_count": 84,
     "metadata": {},
     "output_type": "execute_result"
    }
   ],
   "source": [
    "# 习题 33: While\n",
    "i = 0\n",
    "numbers = []\n",
    "\n",
    "while i < 6\n",
    "  puts \"At the top i is #{i}\"\n",
    "  numbers.push(i)\n",
    "\n",
    "  i = i + 1\n",
    "  puts \"Numbers now: #{numbers}\"\n",
    "  puts \"At the bottom i is #{i}\"\n",
    "end\n",
    "\n",
    "puts \"The numbers: \"\n",
    "\n",
    "for num in numbers\n",
    "  puts num\n",
    "end"
   ]
  },
  {
   "cell_type": "code",
   "execution_count": 86,
   "metadata": {
    "collapsed": false
   },
   "outputs": [
    {
     "data": {
      "text/plain": [
       "\"bear\""
      ]
     },
     "execution_count": 86,
     "metadata": {},
     "output_type": "execute_result"
    }
   ],
   "source": [
    "# 习题 34: 存取数组里的元素\n",
    "animals = ['bear', 'tiger', 'penguin', 'zebra']\n",
    "bear = animals[0]"
   ]
  },
  {
   "cell_type": "code",
   "execution_count": 87,
   "metadata": {
    "collapsed": true
   },
   "outputs": [],
   "source": [
    "# 习题 36: 设计和测试\n",
    "# 循环的规则\n",
    "# 只有在循环永不停止时使用 while ，这意味着你可能永远都用不到\n",
    "# 其他类型的循环都使用 for ，尤其是在循环的对象数量固定或者有限的情况下\n",
    "\n",
    "# debug技巧\n",
    "# 最好的除错技巧是使用 puts 或 p 在各个你想要检查的关键环节将关键变量输出，从而检查哪里是否有错。\n",
    "# 让程序一部分一部分地运行起来。不要等一个很长的脚本写完后才去运行它。写一点，运行一点，再修改一点。"
   ]
  },
  {
   "cell_type": "code",
   "execution_count": 90,
   "metadata": {
    "collapsed": false
   },
   "outputs": [
    {
     "name": "stdout",
     "output_type": "stream",
     "text": [
      "  alias\n",
      "    and\n",
      "    BEGIN\n",
      "    begin\n",
      "    break\n",
      "    case\n",
      "    class\n",
      "    def\n",
      "    defined?\n",
      "    do\n",
      "    else\n",
      "    elsif\n",
      "    END\n",
      "    end\n",
      "    ensure\n",
      "    false\n",
      "    for\n",
      "    if\n",
      "    in\n",
      "    module\n",
      "    next\n",
      "    nil\n",
      "    not\n",
      "    or\n",
      "    redo\n",
      "    rescue\n",
      "    retry\n",
      "    return\n",
      "    self\n",
      "    super\n",
      "    then\n",
      "    true\n",
      "    undef\n",
      "    unless\n",
      "    until\n",
      "    when\n",
      "    while\n",
      "    yield\n",
      "\n"
     ]
    }
   ],
   "source": [
    "# 习题 37: 重视各种符号\n",
    "# 关键字\n",
    "keywords= <<key_words\n",
    "  alias\n",
    "    and\n",
    "    BEGIN\n",
    "    begin\n",
    "    break\n",
    "    case\n",
    "    class\n",
    "    def\n",
    "    defined?\n",
    "    do\n",
    "    else\n",
    "    elsif\n",
    "    END\n",
    "    end\n",
    "    ensure\n",
    "    false\n",
    "    for\n",
    "    if\n",
    "    in\n",
    "    module\n",
    "    next\n",
    "    nil\n",
    "    not\n",
    "    or\n",
    "    redo\n",
    "    rescue\n",
    "    retry\n",
    "    return\n",
    "    self\n",
    "    super\n",
    "    then\n",
    "    true\n",
    "    undef\n",
    "    unless\n",
    "    until\n",
    "    when\n",
    "    while\n",
    "    yield\n",
    "key_words\n",
    "puts keywords"
   ]
  },
  {
   "cell_type": "code",
   "execution_count": 93,
   "metadata": {
    "collapsed": false
   },
   "outputs": [
    {
     "name": "stdout",
     "output_type": "stream",
     "text": [
      "true\n",
      "false\n",
      "nil\n",
      "constants\n",
      "strings\n",
      "numbers\n",
      "ranges\n",
      "arrays\n",
      "hashes\n",
      "\n"
     ]
    }
   ],
   "source": [
    "# 37\n",
    "ruby_type = <<type\n",
    "true\n",
    "false\n",
    "nil\n",
    "constants\n",
    "strings\n",
    "numbers\n",
    "ranges\n",
    "arrays\n",
    "hashes\n",
    "type\n",
    "puts ruby_type"
   ]
  },
  {
   "cell_type": "code",
   "execution_count": null,
   "metadata": {
    "collapsed": true
   },
   "outputs": [],
   "source": [
    "# 37节之后采用：http://www.easonhan.info/learn_ruby_the_hard_way.html"
   ]
  }
 ],
 "metadata": {
  "kernelspec": {
   "display_name": "Ruby 2.3.1",
   "language": "ruby",
   "name": "ruby"
  },
  "language_info": {
   "file_extension": ".rb",
   "mimetype": "application/x-ruby",
   "name": "ruby",
   "version": "2.3.1"
  },
  "toc": {
   "toc_cell": false,
   "toc_number_sections": true,
   "toc_threshold": 6,
   "toc_window_display": false
  }
 },
 "nbformat": 4,
 "nbformat_minor": 0
}
