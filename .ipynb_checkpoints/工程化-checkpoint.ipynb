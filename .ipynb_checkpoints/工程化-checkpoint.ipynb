{
 "cells": [
  {
   "cell_type": "markdown",
   "metadata": {
    "collapsed": true
   },
   "source": [
    "# project template\n",
    "https://github.com/ruby-ore/ore\n",
    "https://github.com/tjwp/cookiecutter-rubygem\n",
    "\n",
    "\n",
    "### ruby-ore/ore\n",
    "sudo gem install ore\n",
    "mine my-project\n",
    "\n",
    "\n",
    " Classnames must start with an uppercase in Ruby.\n",
    "### 教程\n",
    "http://qiita.com/xiangzhuyuan/items/7d3659bcebbaf52a1f12  写一个自己的gem\n",
    "https://ruby-china.org/topics/19724\n",
    "\n",
    "### \n",
    "gem build wwj_hello_world.gemspec\n",
    "\n",
    "gem install ./wwj_hello_world-0.1.0.gem\n",
    "\n",
    "\n",
    "gem push wwj_hello_world-0.1.0.gem\n",
    "\n",
    "\n",
    "chmod a+x wwj_hello_world  #  命令行\n",
    "gem.executables << 'wwj_hello_world'\n",
    "\n",
    "## gem source -l\n",
    "需要官方的\n",
    "\n",
    "\n",
    "gem add -a http://rubygems.org\n",
    "\n",
    "\n",
    "\n",
    "# 使用\n",
    "iruby \n",
    "\n",
    "require \"\"\n"
   ]
  },
  {
   "cell_type": "code",
   "execution_count": 3,
   "metadata": {
    "collapsed": false
   },
   "outputs": [
    {
     "data": {
      "text/plain": [
       "false"
      ]
     },
     "execution_count": 3,
     "metadata": {},
     "output_type": "execute_result"
    }
   ],
   "source": [
    "require \"wwj_hello_world\""
   ]
  },
  {
   "cell_type": "code",
   "execution_count": 6,
   "metadata": {
    "collapsed": false
   },
   "outputs": [
    {
     "data": {
      "text/plain": [
       "\"Hello ruby! --by wwj718\""
      ]
     },
     "execution_count": 6,
     "metadata": {},
     "output_type": "execute_result"
    }
   ],
   "source": [
    "WwjHelloWorld.say_hello()"
   ]
  }
 ],
 "metadata": {
  "kernelspec": {
   "display_name": "Ruby 2.3.1",
   "language": "ruby",
   "name": "ruby"
  },
  "language_info": {
   "file_extension": ".rb",
   "mimetype": "application/x-ruby",
   "name": "ruby",
   "version": "2.3.1"
  },
  "toc": {
   "toc_cell": false,
   "toc_number_sections": true,
   "toc_threshold": 6,
   "toc_window_display": false
  }
 },
 "nbformat": 4,
 "nbformat_minor": 0
}
