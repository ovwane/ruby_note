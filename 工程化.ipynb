{
 "cells": [
  {
   "cell_type": "markdown",
   "metadata": {
    "collapsed": true
   },
   "source": [
    "# project template\n",
    "https://github.com/ruby-ore/ore\n",
    "https://github.com/tjwp/cookiecutter-rubygem\n",
    "\n",
    "\n",
    "### ruby-ore/ore\n",
    "sudo gem install ore\n",
    "mine my-project\n",
    "\n",
    "\n",
    " Classnames must start with an uppercase in Ruby.\n",
    "### 教程\n",
    "http://qiita.com/xiangzhuyuan/items/7d3659bcebbaf52a1f12  写一个自己的gem\n",
    "https://ruby-china.org/topics/19724\n",
    "\n",
    "### \n",
    "gem build wwj_hello_world.gemspec\n",
    "\n",
    "gem install ./wwj_hello_world-0.1.0.gem\n",
    "\n",
    "\n",
    "gem push wwj_hello_world-0.1.0.gem\n",
    "\n",
    "\n",
    "chmod a+x wwj_hello_world  #  命令行\n",
    "gem.executables << 'wwj_hello_world'\n",
    "\n",
    "## gem source -l\n",
    "需要官方的\n",
    "\n",
    "\n",
    "gem add -a http://rubygems.org\n",
    "\n",
    "\n",
    "\n",
    "# 使用\n",
    "iruby \n",
    "\n",
    "require \"\"\n"
   ]
  },
  {
   "cell_type": "code",
   "execution_count": 3,
   "metadata": {
    "collapsed": false
   },
   "outputs": [
    {
     "data": {
      "text/plain": [
       "false"
      ]
     },
     "execution_count": 3,
     "metadata": {},
     "output_type": "execute_result"
    }
   ],
   "source": [
    "require \"wwj_hello_world\""
   ]
  },
  {
   "cell_type": "code",
   "execution_count": 7,
   "metadata": {
    "collapsed": false
   },
   "outputs": [
    {
     "data": {
      "text/plain": [
       "\"Hello ruby! --by wwj718\""
      ]
     },
     "execution_count": 7,
     "metadata": {},
     "output_type": "execute_result"
    }
   ],
   "source": [
    "WwjHelloWorld.say_hello()"
   ]
  },
  {
   "cell_type": "code",
   "execution_count": 2,
   "metadata": {
    "collapsed": false
   },
   "outputs": [
    {
     "ename": "MessagePack::RPC::TimeoutError",
     "evalue": "request timed out",
     "output_type": "error",
     "traceback": [
      "\u001b[31mMessagePack::RPC::TimeoutError\u001b[0m: request timed out",
      "\u001b[37m/usr/local/lib/ruby/gems/2.3.0/gems/msgpack-rpc-0.5.4/lib/msgpack/rpc/future.rb:59:in `get'\u001b[0m",
      "\u001b[37m/usr/local/lib/ruby/gems/2.3.0/gems/msgpack-rpc-0.5.4/lib/msgpack/rpc/session.rb:54:in `call'\u001b[0m",
      "\u001b[37m<main>:2:in `<main>'\u001b[0m",
      "\u001b[37m/usr/local/lib/ruby/gems/2.3.0/gems/iruby-0.2.9/lib/iruby/backend.rb:44:in `eval'\u001b[0m",
      "\u001b[37m/usr/local/lib/ruby/gems/2.3.0/gems/iruby-0.2.9/lib/iruby/backend.rb:44:in `eval'\u001b[0m",
      "\u001b[37m/usr/local/lib/ruby/gems/2.3.0/gems/iruby-0.2.9/lib/iruby/backend.rb:12:in `eval'\u001b[0m",
      "\u001b[37m/usr/local/lib/ruby/gems/2.3.0/gems/iruby-0.2.9/lib/iruby/kernel.rb:87:in `execute_request'\u001b[0m",
      "\u001b[37m/usr/local/lib/ruby/gems/2.3.0/gems/iruby-0.2.9/lib/iruby/kernel.rb:47:in `dispatch'\u001b[0m",
      "\u001b[37m/usr/local/lib/ruby/gems/2.3.0/gems/iruby-0.2.9/lib/iruby/kernel.rb:37:in `run'\u001b[0m",
      "\u001b[37m/usr/local/lib/ruby/gems/2.3.0/gems/iruby-0.2.9/lib/iruby/command.rb:70:in `run_kernel'\u001b[0m",
      "\u001b[37m/usr/local/lib/ruby/gems/2.3.0/gems/iruby-0.2.9/lib/iruby/command.rb:34:in `run'\u001b[0m",
      "\u001b[37m/usr/local/lib/ruby/gems/2.3.0/gems/iruby-0.2.9/bin/iruby:5:in `<top (required)>'\u001b[0m",
      "\u001b[37m/usr/local/bin/iruby:23:in `load'\u001b[0m",
      "\u001b[37m/usr/local/bin/iruby:23:in `<main>'\u001b[0m"
     ]
    }
   ],
   "source": [
    "require 'msgpack/rpc'\n",
    "c = MessagePack::RPC::Client.new('127.0.0.1',4242)\n",
    "result = c.call(\"wwj\")  #=> 3"
   ]
  },
  {
   "cell_type": "code",
   "execution_count": null,
   "metadata": {
    "collapsed": true
   },
   "outputs": [],
   "source": [
    "MessagePack."
   ]
  }
 ],
 "metadata": {
  "kernelspec": {
   "display_name": "Ruby 2.3.1",
   "language": "ruby",
   "name": "ruby"
  },
  "language_info": {
   "file_extension": ".rb",
   "mimetype": "application/x-ruby",
   "name": "ruby",
   "version": "2.3.1"
  },
  "toc": {
   "toc_cell": false,
   "toc_number_sections": true,
   "toc_threshold": 6,
   "toc_window_display": false
  }
 },
 "nbformat": 4,
 "nbformat_minor": 0
}
